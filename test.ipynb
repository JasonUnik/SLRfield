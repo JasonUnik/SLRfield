{
 "cells": [
  {
   "cell_type": "markdown",
   "metadata": {},
   "source": [
    "# Welcome to the SLRfield package"
   ]
  },
  {
   "cell_type": "markdown",
   "metadata": {},
   "source": [
    "This package is an archive of scientific routines for data processing related to SLR(Satellite Laser Ranging).   \n",
    "Currently, operations on SLR data include:\n",
    "    1. Automatically download the CPF(Consolidated Prediction Format) ephemeris file\n",
    "    2. Parse the CPF ephemeris file\n",
    "    3. Predict the azimuth, altitude, distance of the target, and the time of flight for laser pulse etc. given the coordinates of the station    "
   ]
  },
  {
   "cell_type": "markdown",
   "metadata": {},
   "source": [
    "## How to Install"
   ]
  },
  {
   "cell_type": "markdown",
   "metadata": {},
   "source": [
    "SLRfield can be installed with `pip install slrfield`."
   ]
  },
  {
   "cell_type": "markdown",
   "metadata": {},
   "source": [
    "## How to Upgrade"
   ]
  },
  {
   "cell_type": "markdown",
   "metadata": {},
   "source": [
    "SLRfield can be updated to the latest version with `pip install slrfield --upgrade`."
   ]
  },
  {
   "cell_type": "markdown",
   "metadata": {},
   "source": [
    "## How to use"
   ]
  },
  {
   "cell_type": "markdown",
   "metadata": {},
   "source": [
    "### Download the latest CPF ephemeris files at the current moment"
   ]
  },
  {
   "cell_type": "markdown",
   "metadata": {},
   "source": [
    "In this package, for prediction data centers, only **CDDIS**(Crustal Dynamics Data Information System) and **EDC**(EUROLAS Data Center) are available. If the prediction data center is not provided, then it is set to **CDDIS** by default."
   ]
  },
  {
   "cell_type": "markdown",
   "metadata": {},
   "source": [
    "#### Download all available targets from CDDIS by default"
   ]
  },
  {
   "cell_type": "markdown",
   "metadata": {},
   "source": [
    "Note: the data storage directory(such as CPF/CDDIS/2020-10-02) will be automatically created or emptied(if exist) by default ahead of requesting and downloading CPF files ."
   ]
  },
  {
   "cell_type": "code",
   "execution_count": null,
   "metadata": {},
   "outputs": [],
   "source": [
    "from slrfield import cpf_download\n",
    "cpf_files_all = cpf_download()"
   ]
  },
  {
   "cell_type": "markdown",
   "metadata": {},
   "source": [
    "Note: the data storage directory will be created/kept ahead of requesting CPF files by setting `append = True`."
   ]
  },
  {
   "cell_type": "code",
   "execution_count": null,
   "metadata": {},
   "outputs": [],
   "source": [
    "cpf_files_append = cpf_download(['beaconc','lageos1'],append=True)"
   ]
  },
  {
   "cell_type": "markdown",
   "metadata": {},
   "source": [
    "#### Download all available targets from EDC"
   ]
  },
  {
   "cell_type": "code",
   "execution_count": null,
   "metadata": {},
   "outputs": [],
   "source": [
    "cpf_files_all = cpf_download(source = 'EDC') "
   ]
  },
  {
   "cell_type": "markdown",
   "metadata": {},
   "source": [
    "#### Download a set of specified targets from CDDIS by default"
   ]
  },
  {
   "cell_type": "code",
   "execution_count": null,
   "metadata": {},
   "outputs": [],
   "source": [
    "from slrfield import cpf_download\n",
    "sat_lists = ['ajisai','lageos1','hy2a','etalon2','jason3','beaconc','larets']\n",
    "cpf_files_cddic = cpf_download(sat_lists) "
   ]
  },
  {
   "cell_type": "markdown",
   "metadata": {},
   "source": [
    "#### Download a set of specified targets from EDC"
   ]
  },
  {
   "cell_type": "code",
   "execution_count": null,
   "metadata": {},
   "outputs": [],
   "source": [
    "sat_lists = ['ajisai','lageos1','hy2a','etalon2','jason3']\n",
    "cpf_files_edc = cpf_download(sat_lists,source = 'EDC',append=True) "
   ]
  },
  {
   "cell_type": "markdown",
   "metadata": {},
   "source": [
    "### Download the latest CPF ephemeris files before a specific date and time"
   ]
  },
  {
   "cell_type": "markdown",
   "metadata": {},
   "source": [
    "From ***CDDIS*** by default"
   ]
  },
  {
   "cell_type": "code",
   "execution_count": null,
   "metadata": {},
   "outputs": [],
   "source": [
    "sat_name = 'lageos1'\n",
    "date = '2007-06-01 11:30:00'\n",
    "cpf_file_cddis = cpf_download(sat_name,date)"
   ]
  },
  {
   "cell_type": "markdown",
   "metadata": {},
   "source": [
    "From ***EDC***"
   ]
  },
  {
   "cell_type": "code",
   "execution_count": null,
   "metadata": {},
   "outputs": [],
   "source": [
    "sat_lists = ['starlette','lageos1']\n",
    "date = '2017-01-01 11:30:00'\n",
    "cpf_files_edc = cpf_download(sat_lists,date,'EDC',append=True)"
   ]
  },
  {
   "cell_type": "markdown",
   "metadata": {},
   "source": [
    "### Parse the CPF ephemeris files and read the data"
   ]
  },
  {
   "cell_type": "markdown",
   "metadata": {},
   "source": [
    "Information from the parsed CPF ephemeris files includes the following contents:\n",
    " - Format\n",
    " - Format Version\n",
    " - Ephemeris Source\n",
    " - Date and time of ephemeris production\n",
    " - Ephemeris Sequence number\n",
    " - Target name\n",
    " - COSPAR ID\n",
    " - SIC\n",
    " - NORAD ID\n",
    " - Starting date and time of ephemeris\n",
    " - Ending date and time of ephemeris\n",
    " - Time between table entries (UTC seconds)\n",
    " - Target type\n",
    " - Reference frame\n",
    " - Rotational angle type\n",
    " - Center of mass correction\n",
    " - Direction type\n",
    " - Modified Julian Date\n",
    " - Second of Day \n",
    " - Leap Second\n",
    " - Time moment in UTC \n",
    " - Target positions in meters"
   ]
  },
  {
   "cell_type": "markdown",
   "metadata": {},
   "source": [
    "#### Parse a single CPF ephemeris file"
   ]
  },
  {
   "cell_type": "code",
   "execution_count": null,
   "metadata": {},
   "outputs": [],
   "source": [
    "from slrfield import read_cpfs\n",
    "cpf_data_cddis = read_cpfs(cpf_file_cddis)\n",
    "print(cpf_data_cddis.info)"
   ]
  },
  {
   "cell_type": "markdown",
   "metadata": {},
   "source": [
    "#### Parse a set of CPF ephemeris files"
   ]
  },
  {
   "cell_type": "code",
   "execution_count": null,
   "metadata": {},
   "outputs": [],
   "source": [
    "cpf_data_edc = read_cpfs(cpf_files_edc)\n",
    "print(cpf_data_edc.target_name)\n",
    "print(cpf_data_edc.ephemeris_source)\n",
    "print(cpf_data_edc.norad_id)\n",
    "print(cpf_data_edc.cospar_id)\n",
    "print(cpf_data_edc.time_ephemeris) # Date and time of ephemeris production\n",
    "print(cpf_data_edc.version) # Format Version"
   ]
  },
  {
   "cell_type": "markdown",
   "metadata": {},
   "source": [
    "### Make predictions"
   ]
  },
  {
   "cell_type": "markdown",
   "metadata": {},
   "source": [
    "The azimuth, altitude, distance of a target w.r.t. a given station, and the time of flight for laser pulse etc. can be easily predicted by calling a method `pred`. The output prediction files named with target names are stored in directory pred by default. \n",
    "\n",
    "- There are two modes for the prediction. If the mode is set to ***geometric***, then the transmitting direction of the laser will coincide with the receiving direction at a certain moment. In this case, the output prediction file will not contain the difference between the receiving direction and the transmitting direction. If the mode is set to ***apparent***, then the transmitting direction of the laser is inconsistent with the receiving direction at a certain moment. In this case, the output prediction file will contain the difference between the receiving direction and the transmitting direction. The default mode is set to ***apparent***.\n",
    "- The 10-point(degree 9) Lagrange polynomial interpolation method is used to interpolate the CPF ephemeris.\n",
    "- Effects of leap second have been considered in the prediction generation.\n",
    "\n",
    "Coordinates of station can either be ***geocentric***(x, y, z) in meters or ***geodetic***(lon, lat, height) in degrees and meters. The default coordinates type is set to ***geodetic***."
   ]
  },
  {
   "cell_type": "markdown",
   "metadata": {},
   "source": [
    "#### For geodetic(lon, lat, height) station coordinates by default"
   ]
  },
  {
   "cell_type": "code",
   "execution_count": null,
   "metadata": {},
   "outputs": [],
   "source": [
    "t_start = '2007-06-01 17:06:40'\n",
    "t_end = '2007-06-02 09:06:40'\n",
    "t_increment = 0.5 # second\n",
    "\n",
    "station = [46.877230,7.465222,951.33] # geodetic(lon, lat, height) coordinates in degrees and meters by default\n",
    "cpf_data_cddis.pred(station,t_start,t_end,t_increment)"
   ]
  },
  {
   "cell_type": "markdown",
   "metadata": {},
   "source": [
    "####  For geocentric(x, y, z) station coordinates"
   ]
  },
  {
   "cell_type": "code",
   "execution_count": null,
   "metadata": {},
   "outputs": [],
   "source": [
    "t_start = '2017-01-01 22:06:40'\n",
    "t_end = '2017-01-02 09:06:40'\n",
    "t_increment = 2 # second\n",
    "\n",
    "station = [4331283.557, 567549.902,4633140.353] # geocentric(x, y, z) coordinates of station in meters\n",
    "cpf_data_edc.pred(station,t_start,t_end,t_increment,coord_type = 'geocentric',mode='geometric')"
   ]
  },
  {
   "cell_type": "markdown",
   "metadata": {},
   "source": [
    "#### Calculate the visible passes for target transit"
   ]
  },
  {
   "cell_type": "code",
   "execution_count": null,
   "metadata": {},
   "outputs": [],
   "source": [
    "from slrfield import target_query,tle_download,visible_pass\n",
    "# Targets filtering by a set of parameters\n",
    "targets_df = target_query(Payload=False,Decayed=False,RCSAvg=[5,8],MeanAlt=[300,600])\n",
    "\n",
    "# Download TLE/3LE data\n",
    "noradids = list(targets_df['NORADID'])\n",
    "tle_download(noradids)\n",
    "\n",
    "# Calculate visible passes for target transit\n",
    "t_start = '2020-06-10 12:00:00' # starting date and time \n",
    "t_end = '2020-06-17 00:00:00' # ending date and time\n",
    "timezone = 8 # timezone\n",
    "# station position in lat[deg], lon[deg], and height[m] above the WGS84 ellipsoid\n",
    "site = ['25.03 N','102.80 E','1987.05'] \n",
    "visible_pass(t_start,t_end,site,timezone)"
   ]
  }
 ],
 "metadata": {
  "kernelspec": {
   "display_name": "Python 3",
   "language": "python",
   "name": "python3"
  },
  "language_info": {
   "codemirror_mode": {
    "name": "ipython",
    "version": 3
   },
   "file_extension": ".py",
   "mimetype": "text/x-python",
   "name": "python",
   "nbconvert_exporter": "python",
   "pygments_lexer": "ipython3",
   "version": "3.8.3"
  }
 },
 "nbformat": 4,
 "nbformat_minor": 4
}
